{
 "cells": [
  {
   "cell_type": "code",
   "execution_count": null,
   "metadata": {},
   "outputs": [],
   "source": [
    "import requests\n",
    "from pymed import PubMed\n",
    "import pickle"
   ]
  },
  {
   "cell_type": "code",
   "execution_count": null,
   "metadata": {},
   "outputs": [],
   "source": [
    "def unique_authors(lst_authors):\n",
    "    return [dicto['firstname']+ ' '+dicto['lastname'] for dicto in lst_authors if dicto['lastname'] and dicto['firstname']]\n",
    "\n",
    "def unique_keywords(lst_keywords):\n",
    "    pass"
   ]
  },
  {
   "cell_type": "code",
   "execution_count": null,
   "metadata": {
    "scrolled": true
   },
   "outputs": [],
   "source": [
    "pubmed = PubMed(tool=\"MyTool\", email=\"my@email.address\")\n",
    "query = \"covid[Title/Abstract] (2020[Date - Create] : 3000[Date - Create])\"\n",
    "# query formulation tool : https://pubmed.ncbi.nlm.nih.gov/advanced/\n",
    "results = pubmed.query(query, max_results=100000)\n",
    "\n",
    "dict_authors = {}\n",
    "dict_keywords = {}\n",
    "\n",
    "for article in results:\n",
    "    try:\n",
    "        authors = unique_authors(article.authors)\n",
    "        keywords = article.keywords\n",
    "        for author in authors:\n",
    "            if author not in dict_authors.keys():\n",
    "                dict_authors[author] = {}\n",
    "\n",
    "        for keyword in keywords:\n",
    "            keyword = keyword.lower()\n",
    "            for author in authors:\n",
    "                if keyword not in dict_authors[author]:\n",
    "                    dict_authors[author][keyword] = 1\n",
    "                else:\n",
    "                    dict_authors[author][keyword] += 1\n",
    "\n",
    "            if keyword not in dict_keywords:\n",
    "                dict_keywords[keyword] = []\n",
    "    except Exception as e:\n",
    "        print(e)"
   ]
  },
  {
   "cell_type": "code",
   "execution_count": null,
   "metadata": {},
   "outputs": [],
   "source": [
    "with open('keywords_dict_no_vectors.pickle', 'wb') as handle:\n",
    "    pickle.dump(dict_keywords,handle)\n",
    "with open('dict_authors.pickle', 'wb') as handle:\n",
    "    pickle.dump(dict_authors,handle)\n"
   ]
  },
  {
   "cell_type": "code",
   "execution_count": 2,
   "metadata": {},
   "outputs": [],
   "source": [
    "from transformers import *\n",
    "import torch\n",
    "import numpy as np\n",
    "\n",
    "scibert_tokenizer = AutoTokenizer.from_pretrained('dmis-lab/biobert-v1.1')\n",
    "scibert_model = AutoModel.from_pretrained('dmis-lab/biobert-v1.1')"
   ]
  },
  {
   "cell_type": "code",
   "execution_count": 5,
   "metadata": {
    "scrolled": true
   },
   "outputs": [
    {
     "name": "stdout",
     "output_type": "stream",
     "text": [
      "56108\r"
     ]
    },
    {
     "name": "stderr",
     "output_type": "stream",
     "text": [
      "<ipython-input-5-f04bae5c60a5>:11: RuntimeWarning: Mean of empty slice.\n",
      "  dicto[key] = out[0][0][1:-1].detach().numpy().mean(axis=0)\n",
      "/home/bastien/.local/lib/python3.8/site-packages/numpy/core/_methods.py:153: RuntimeWarning: invalid value encountered in true_divide\n",
      "  ret = um.true_divide(\n"
     ]
    },
    {
     "name": "stdout",
     "output_type": "stream",
     "text": [
      "73493\r"
     ]
    }
   ],
   "source": [
    "counter=0\n",
    "lst_keys = dict_keyword_no_vectors.keys()\n",
    "dicto = {}\n",
    "for key in lst_keys:\n",
    "    counter+=1\n",
    "    print(counter,end='\\r')\n",
    "    if dict_keyword_no_vectors[key] == []:\n",
    "        try:\n",
    "            token_keyword = torch.tensor(scibert_tokenizer.encode(key)).unsqueeze(0)\n",
    "            out = scibert_model(token_keyword)\n",
    "            dicto[key] = out[0][0][1:-1].detach().numpy().mean(axis=0)\n",
    "        except ValueError:\n",
    "            pass"
   ]
  },
  {
   "cell_type": "code",
   "execution_count": null,
   "metadata": {},
   "outputs": [],
   "source": [
    "with open('keywords_and_vectors_v2.pkl','wb') as file:\n",
    "    pickle.dump(dicto,file)"
   ]
  }
 ],
 "metadata": {
  "kernelspec": {
   "display_name": "Python 3",
   "language": "python",
   "name": "python3"
  },
  "language_info": {
   "codemirror_mode": {
    "name": "ipython",
    "version": 3
   },
   "file_extension": ".py",
   "mimetype": "text/x-python",
   "name": "python",
   "nbconvert_exporter": "python",
   "pygments_lexer": "ipython3",
   "version": "3.8.3"
  }
 },
 "nbformat": 4,
 "nbformat_minor": 4
}
