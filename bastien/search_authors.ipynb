{
 "cells": [
  {
   "cell_type": "code",
   "execution_count": 9,
   "metadata": {},
   "outputs": [],
   "source": [
    "###This notebook should be run only after a pubmed database has been created using the create_pubmed_db notebook"
   ]
  },
  {
   "cell_type": "code",
   "execution_count": null,
   "metadata": {},
   "outputs": [],
   "source": [
    "import pickle\n",
    "from transformers import *\n",
    "import torch\n",
    "import numpy as np\n",
    "from sklearn.metrics.pairwise import cosine_similarity"
   ]
  },
  {
   "cell_type": "code",
   "execution_count": 57,
   "metadata": {},
   "outputs": [],
   "source": [
    "def lst_top_keywords(lst_top_5_keywords,key,cos_sim):\n",
    "    lst_top_5_keywords = sorted(lst_top_5_keywords, key=lambda x: x[1],reverse=False)\n",
    "    if cos_sim > lst_top_5_keywords[0][1]:\n",
    "        lst_top_5_keywords[0][0] = key\n",
    "        lst_top_5_keywords[0][1] = cos_sim\n",
    "    return lst_top_5_keywords\n",
    "\n",
    "def add_to_lst_scientists(value_scientist,key,top_10_scientists):\n",
    "    top_10_scientists = sorted(top_10_scientists, key=lambda x: x[1],reverse=False)\n",
    "    if value_scientist > top_10_scientists[0][1]:\n",
    "        top_10_scientists[0][0] = key\n",
    "        top_10_scientists[0][1] = value_scientist\n",
    "    return top_10_scientists"
   ]
  },
  {
   "cell_type": "code",
   "execution_count": 58,
   "metadata": {},
   "outputs": [],
   "source": [
    "## dict_vectors is a dict of all keywords mentioned in the database and their associated Biobert embeddings\n",
    "with open('keywords_and_vectors_v2.pkl', 'rb') as handle:\n",
    "    dict_vectors = pickle.load(handle)\n",
    "    \n",
    "## dict_auhtors is a dict of all authors mentioned in the database with all the keywords associated with \n",
    "#the articles they've published and a count of mention for each keyword-author pair\n",
    "with open('dict_authors.pickle', 'rb') as handle:\n",
    "    dict_authors = pickle.load(handle)\n"
   ]
  },
  {
   "cell_type": "code",
   "execution_count": 6,
   "metadata": {},
   "outputs": [],
   "source": [
    "scibert_tokenizer = AutoTokenizer.from_pretrained('dmis-lab/biobert-v1.1')\n",
    "scibert_model = AutoModel.from_pretrained('dmis-lab/biobert-v1.1')"
   ]
  },
  {
   "cell_type": "code",
   "execution_count": 59,
   "metadata": {},
   "outputs": [
    {
     "name": "stdout",
     "output_type": "stream",
     "text": [
      "Input contains NaN, infinity or a value too large for dtype('float32').\n",
      "CPU times: user 17.9 s, sys: 67.6 ms, total: 18 s\n",
      "Wall time: 17.8 s\n"
     ]
    },
    {
     "data": {
      "text/plain": [
       "[['covid lockdown', 0.9440769],\n",
       " ['covid lung', 0.9405372],\n",
       " ['covid management', 0.9384284],\n",
       " ['covid-19 fret substrate', 0.94154215],\n",
       " ['covid model', 0.9389711],\n",
       " ['boa boast covid-19 guidelines', 0.94477713],\n",
       " ['covid feet', 0.9467763],\n",
       " ['covid training', 0.93901384],\n",
       " ['covid emergency', 0.94047546],\n",
       " ['covid-19 hcws deaths', 0.94902503]]"
      ]
     },
     "execution_count": 59,
     "metadata": {},
     "output_type": "execute_result"
    }
   ],
   "source": [
    "%%time\n",
    "search_query = 'ivermectin covid'\n",
    "\n",
    "token_keyword = torch.tensor(scibert_tokenizer.encode(search_query)).unsqueeze(0)\n",
    "out = scibert_model(token_keyword)\n",
    "vector = out[0][0][1:-1].detach().numpy().mean(axis=0)\n",
    "\n",
    "lst_top_10_keywords = [['',0],['',0],['',0],['',0],['',0],['',0],['',0],['',0],['',0],['',0]]\n",
    "for key,values in dict_vectors.items():\n",
    "    if isinstance(vector,np.ndarray) and isinstance(values,np.ndarray):\n",
    "        try:\n",
    "            cos_sim = cosine_similarity(vector.reshape(1,-1),values.reshape(1,-1))[0][0]\n",
    "            lst_top_5_keywords = lst_top_keywords(lst_top_10_keywords,key,cos_sim)\n",
    "        except ValueError as e:\n",
    "            print(e)\n",
    "lst_top_10_keywords"
   ]
  },
  {
   "cell_type": "code",
   "execution_count": 60,
   "metadata": {},
   "outputs": [],
   "source": [
    "lst_keywords = [keyword[0] for keyword in lst_top_10_keywords if keyword[1]>0.9]\n",
    "\n",
    "top_10_scientists = [['',0],['',0],['',0],['',0],['',0],['',0],['',0],['',0],['',0],['',0]]\n",
    "for key,values in dict_authors.items():\n",
    "    value_scientist = 0\n",
    "    for keyword in lst_keywords:\n",
    "        if keyword in values:\n",
    "            value_scientist += values[keyword]\n",
    "    top_10_scientists = add_to_lst_scientists(value_scientist,key,top_10_scientists)\n",
    "    "
   ]
  },
  {
   "cell_type": "code",
   "execution_count": 61,
   "metadata": {
    "scrolled": false
   },
   "outputs": [
    {
     "name": "stdout",
     "output_type": "stream",
     "text": [
      "Luca Damiani {'ar surgery': 1, 'covid emergency': 1, 'augmented reality': 1, 'hologram 3d display': 1, 'remote assistance': 1, 'remote proctor': 1, 'spine surgery': 1, 'telementoring and surgery': 1}\n",
      "Matteo Cavalieri {'ar surgery': 1, 'covid emergency': 1, 'augmented reality': 1, 'hologram 3d display': 1, 'remote assistance': 1, 'remote proctor': 1, 'spine surgery': 1, 'telementoring and surgery': 1}\n",
      "Nicola Zullo {'ar surgery': 1, 'covid emergency': 1, 'augmented reality': 1, 'hologram 3d display': 1, 'remote assistance': 1, 'remote proctor': 1, 'spine surgery': 1, 'telementoring and surgery': 1}\n",
      "Francesco Zenga {'ar surgery': 1, 'covid emergency': 1, 'augmented reality': 1, 'hologram 3d display': 1, 'remote assistance': 1, 'remote proctor': 1, 'spine surgery': 1, 'telementoring and surgery': 1}\n",
      "Nicola Marengo {'ar surgery': 1, 'covid emergency': 1, 'augmented reality': 1, 'hologram 3d display': 1, 'remote assistance': 1, 'remote proctor': 1, 'spine surgery': 1, 'telementoring and surgery': 1}\n",
      "Alessandro Longo {'ar surgery': 1, 'covid emergency': 1, 'augmented reality': 1, 'hologram 3d display': 1, 'remote assistance': 1, 'remote proctor': 1, 'spine surgery': 1, 'telementoring and surgery': 1}\n",
      "Marco Bozzaro {'ar surgery': 1, 'covid emergency': 1, 'augmented reality': 1, 'hologram 3d display': 1, 'remote assistance': 1, 'remote proctor': 1, 'spine surgery': 1, 'telementoring and surgery': 1}\n",
      "Giuseppe Di Perna {'ar surgery': 1, 'covid emergency': 1, 'augmented reality': 1, 'hologram 3d display': 1, 'remote assistance': 1, 'remote proctor': 1, 'spine surgery': 1, 'telementoring and surgery': 1}\n",
      "Fabio Cofano {'ar surgery': 1, 'covid emergency': 1, 'augmented reality': 1, 'hologram 3d display': 1, 'remote assistance': 1, 'remote proctor': 1, 'spine surgery': 1, 'telementoring and surgery': 1, 'aneurysm': 1, 'arteriovenous malformation': 1, 'covid-19': 1, 'cavernoma': 1, 'davf': 1, 'dural arteriovenous fistula': 1, 'hemorrhagic cerebrovascular disease': 1, 'subarachnoid hemorrhage': 1, 'vascular malformations': 1}\n",
      "Diego Garbossa {'covid-19': 2, 'encephalitis': 1, 'epilepsy': 1, 'focal seizures with impaired awareness': 1, 'ar surgery': 1, 'covid emergency': 1, 'augmented reality': 1, 'hologram 3d display': 1, 'remote assistance': 1, 'remote proctor': 1, 'spine surgery': 1, 'telementoring and surgery': 1, 'aneurysm': 1, 'arteriovenous malformation': 1, 'cavernoma': 1, 'davf': 1, 'dural arteriovenous fistula': 1, 'hemorrhagic cerebrovascular disease': 1, 'subarachnoid hemorrhage': 1, 'vascular malformations': 1}\n"
     ]
    }
   ],
   "source": [
    "for scientist in top_10_scientists:\n",
    "    print(scientist[0], dict_authors[scientist[0]])"
   ]
  },
  {
   "cell_type": "code",
   "execution_count": null,
   "metadata": {},
   "outputs": [],
   "source": []
  }
 ],
 "metadata": {
  "kernelspec": {
   "display_name": "Python 3",
   "language": "python",
   "name": "python3"
  },
  "language_info": {
   "codemirror_mode": {
    "name": "ipython",
    "version": 3
   },
   "file_extension": ".py",
   "mimetype": "text/x-python",
   "name": "python",
   "nbconvert_exporter": "python",
   "pygments_lexer": "ipython3",
   "version": "3.8.3"
  }
 },
 "nbformat": 4,
 "nbformat_minor": 4
}
