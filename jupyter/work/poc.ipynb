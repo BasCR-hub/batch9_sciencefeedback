{
 "cells": [
  {
   "cell_type": "code",
   "execution_count": 2,
   "metadata": {},
   "outputs": [],
   "source": [
    "import sys\n",
    "sys.path.append('/opt/api')\n",
    "from flask import Flask\n",
    "\n",
    "from utils.setup import setup\n",
    "\n",
    "\n",
    "FLASK_APP = Flask(__name__)\n",
    "\n",
    "setup(FLASK_APP)"
   ]
  },
  {
   "cell_type": "code",
   "execution_count": 2,
   "metadata": {},
   "outputs": [
    {
     "name": "stdout",
     "output_type": "stream",
     "text": [
      "OrderedDict([('rating', None), ('claimId', 'NU'), ('editorId', 'PM'), ('activityIdentifier', UUID('373c4b94-4bfb-47de-acca-8fa7fd00efb9')), ('type', None), ('scienceFeedbackIdentifier', 'reckumbQsfGFBRmdG'), ('contentId', None), ('title', None), ('id', 'NU'), ('isSoftDeleted', False), ('comment', None), ('factCheckContentId', 'AUEQ')])\n"
     ]
    }
   ],
   "source": []
  },
  {
   "cell_type": "code",
   "execution_count": null,
   "metadata": {},
   "outputs": [],
   "source": []
  }
 ],
 "metadata": {
  "kernelspec": {
   "display_name": "Python 3",
   "language": "python",
   "name": "python3"
  },
  "language_info": {
   "codemirror_mode": {
    "name": "ipython",
    "version": 3
   },
   "file_extension": ".py",
   "mimetype": "text/x-python",
   "name": "python",
   "nbconvert_exporter": "python",
   "pygments_lexer": "ipython3",
   "version": "3.7.6"
  }
 },
 "nbformat": 4,
 "nbformat_minor": 4
}
